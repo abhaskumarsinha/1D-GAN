{
 "cells": [
  {
   "cell_type": "code",
   "execution_count": 1,
   "id": "69543ae6",
   "metadata": {},
   "outputs": [],
   "source": [
    "import numpy as np\n",
    "import pandas as pd\n",
    "import tensorflow as tf\n",
    "import math\n",
    "import os"
   ]
  },
  {
   "cell_type": "code",
   "execution_count": 2,
   "id": "f35f341c",
   "metadata": {},
   "outputs": [],
   "source": [
    "import matplotlib.pyplot as plt"
   ]
  },
  {
   "cell_type": "markdown",
   "id": "68fea96e",
   "metadata": {},
   "source": [
    "*square_function* is a simple function that returns set of pair of $\\{(x_i,y_i)\\}_0^{\\text{total_points}}$ points in the form of Python list which we will use to generate rest of the points by training our 1D - GAN Generator. Here we choose a simple function to test our genertor, let's say $f(x) = x^2$. $\\dots (1)$"
   ]
  },
  {
   "cell_type": "code",
   "execution_count": 3,
   "id": "c00f4899",
   "metadata": {},
   "outputs": [],
   "source": [
    "def square_function(start_point, end_point, total_points):\n",
    "    sampled_x = np.random.rand(1, total_points)*(end_point - start_point) + start_point\n",
    "    \n",
    "    training_data = []\n",
    "    for x_value in sampled_x:\n",
    "        y_value = x_value**2\n",
    "        \n",
    "        training_data.append([x_value, y_value])\n",
    "    \n",
    "    return training_data"
   ]
  },
  {
   "cell_type": "code",
   "execution_count": 4,
   "id": "341f7c6f",
   "metadata": {},
   "outputs": [],
   "source": [
    "training_data = square_function(-1, 1, 500)"
   ]
  },
  {
   "cell_type": "code",
   "execution_count": 5,
   "id": "40ecabef",
   "metadata": {},
   "outputs": [],
   "source": [
    "X, Y = training_data[0][0], training_data[0][1]"
   ]
  },
  {
   "cell_type": "markdown",
   "id": "b8ff10fc",
   "metadata": {},
   "source": [
    "Below is the discrete scatter plot of all points ($500$ points) which was returend by the *square_function* below the cell $(1)$ above. Notice that all the points lie in the interval $[-1, 1]$, which is the input/output range of our Neural Net Activation functions - tanh, sigmoid, etc. in the end layer."
   ]
  },
  {
   "cell_type": "code",
   "execution_count": 6,
   "id": "0dcb0fdd",
   "metadata": {
    "scrolled": true
   },
   "outputs": [
    {
     "data": {
      "text/plain": [
       "<matplotlib.collections.PathCollection at 0x1df976de160>"
      ]
     },
     "execution_count": 6,
     "metadata": {},
     "output_type": "execute_result"
    },
    {
     "data": {
      "image/png": "[encoded data removed]",
      "text/plain": [
       "<Figure size 432x288 with 1 Axes>"
      ]
     },
     "metadata": {
      "needs_background": "light"
     },
     "output_type": "display_data"
    }
   ],
   "source": [
    "plt.scatter(X, Y)"
   ]
  },
  {
   "cell_type": "markdown",
   "id": "6543d123",
   "metadata": {},
   "source": [
    "We use the results from the original paper and use relu/tanh functions as our activation functions. We use 2 nodes from the front layer, out of total 10 to use as Input to the Neural Net."
   ]
  },
  {
   "cell_type": "code",
   "execution_count": 7,
   "id": "5178eebd",
   "metadata": {},
   "outputs": [
    {
     "name": "stdout",
     "output_type": "stream",
     "text": [
      "Model: \"sequential\"\n",
      "_________________________________________________________________\n",
      " Layer (type)                Output Shape              Param #   \n",
      "=================================================================\n",
      " dense (Dense)               (None, 10)                30        \n",
      "                                                                 \n",
      " dense_1 (Dense)             (None, 10)                110       \n",
      "                                                                 \n",
      " dense_2 (Dense)             (None, 10)                110       \n",
      "                                                                 \n",
      " dense_3 (Dense)             (None, 10)                110       \n",
      "                                                                 \n",
      " dense_4 (Dense)             (None, 2)                 22        \n",
      "                                                                 \n",
      "=================================================================\n",
      "Total params: 382\n",
      "Trainable params: 382\n",
      "Non-trainable params: 0\n",
      "_________________________________________________________________\n"
     ]
    }
   ],
   "source": [
    "generator = tf.keras.Sequential()\n",
    "generator.add(tf.keras.layers.Input(2))\n",
    "generator.add(tf.keras.layers.Dense(10, activation='relu', kernel_initializer='he_uniform'))\n",
    "generator.add(tf.keras.layers.Dense(10, activation='relu', kernel_initializer='he_uniform'))\n",
    "generator.add(tf.keras.layers.Dense(10, activation='relu', kernel_initializer='he_uniform'))\n",
    "generator.add(tf.keras.layers.Dense(10, activation='tanh', kernel_initializer='he_uniform'))\n",
    "generator.add(tf.keras.layers.Dense(2, activation='tanh', kernel_initializer='he_uniform'))\n",
    "generator.summary()"
   ]
  },
  {
   "cell_type": "code",
   "execution_count": 8,
   "id": "25f1a8e8",
   "metadata": {},
   "outputs": [
    {
     "data": {
      "text/plain": [
       "<tf.Tensor: shape=(1, 2), dtype=float32, numpy=array([[0.9265825 , 0.43858644]], dtype=float32)>"
      ]
     },
     "execution_count": 8,
     "metadata": {},
     "output_type": "execute_result"
    }
   ],
   "source": [
    "generator(tf.ones((1,2)))"
   ]
  },
  {
   "cell_type": "markdown",
   "id": "70b440a3",
   "metadata": {},
   "source": [
    "We use Sigmoid in the last layer of the discriminator function, so that we can use limit our output in the range $[0, 1]$. Here we'll use $0$ for labelling the output by Generator and $1$ for labelling the output by Generator"
   ]
  },
  {
   "cell_type": "code",
   "execution_count": 9,
   "id": "2dac1d58",
   "metadata": {},
   "outputs": [],
   "source": [
    "discriminator = tf.keras.Sequential()\n",
    "discriminator.add(tf.keras.layers.Input(2))\n",
    "discriminator.add(tf.keras.layers.Dense(10, activation='linear', kernel_initializer='he_uniform'))\n",
    "discriminator.add(tf.keras.layers.Dense(10, activation='relu', kernel_initializer='he_uniform'))\n",
    "discriminator.add(tf.keras.layers.Dense(1, activation='sigmoid', kernel_initializer='he_uniform'))"
   ]
  },
  {
   "cell_type": "code",
   "execution_count": 10,
   "id": "8c11b19b",
   "metadata": {},
   "outputs": [
    {
     "name": "stdout",
     "output_type": "stream",
     "text": [
      "Model: \"sequential_1\"\n",
      "_________________________________________________________________\n",
      " Layer (type)                Output Shape              Param #   \n",
      "=================================================================\n",
      " dense_5 (Dense)             (None, 10)                30        \n",
      "                                                                 \n",
      " dense_6 (Dense)             (None, 10)                110       \n",
      "                                                                 \n",
      " dense_7 (Dense)             (None, 1)                 11        \n",
      "                                                                 \n",
      "=================================================================\n",
      "Total params: 151\n",
      "Trainable params: 151\n",
      "Non-trainable params: 0\n",
      "_________________________________________________________________\n"
     ]
    }
   ],
   "source": [
    "discriminator.summary()"
   ]
  },
  {
   "cell_type": "code",
   "execution_count": 11,
   "id": "cd64c39e",
   "metadata": {},
   "outputs": [
    {
     "data": {
      "text/plain": [
       "<tf.Tensor: shape=(1, 1), dtype=float32, numpy=array([[0.10837107]], dtype=float32)>"
      ]
     },
     "execution_count": 11,
     "metadata": {},
     "output_type": "execute_result"
    }
   ],
   "source": [
    "discriminator(tf.ones((1,2)))"
   ]
  },
  {
   "cell_type": "markdown",
   "id": "7e887b66",
   "metadata": {},
   "source": [
    "Now we create a joing GAN model by combining the output of generator and input of Discriminator. Notice, both of them have same dimensions. I'll shortly explain the mechaism of training in the later cells and the benefit we get by doing so."
   ]
  },
  {
   "cell_type": "code",
   "execution_count": 12,
   "id": "7122f927",
   "metadata": {},
   "outputs": [],
   "source": [
    "GAN = tf.keras.Sequential([generator, discriminator])"
   ]
  },
  {
   "cell_type": "code",
   "execution_count": 13,
   "id": "5ffc9c08",
   "metadata": {},
   "outputs": [
    {
     "data": {
      "text/plain": [
       "<tf.Tensor: shape=(1, 1), dtype=float32, numpy=array([[0.23483765]], dtype=float32)>"
      ]
     },
     "execution_count": 13,
     "metadata": {},
     "output_type": "execute_result"
    }
   ],
   "source": [
    "GAN(tf.ones((1,2)))"
   ]
  },
  {
   "cell_type": "code",
   "execution_count": 14,
   "id": "658a57ab",
   "metadata": {
    "scrolled": true
   },
   "outputs": [
    {
     "name": "stdout",
     "output_type": "stream",
     "text": [
      "Model: \"sequential_2\"\n",
      "_________________________________________________________________\n",
      " Layer (type)                Output Shape              Param #   \n",
      "=================================================================\n",
      " sequential (Sequential)     (None, 2)                 382       \n",
      "                                                                 \n",
      " sequential_1 (Sequential)   (None, 1)                 151       \n",
      "                                                                 \n",
      "=================================================================\n",
      "Total params: 533\n",
      "Trainable params: 533\n",
      "Non-trainable params: 0\n",
      "_________________________________________________________________\n"
     ]
    }
   ],
   "source": [
    "GAN.summary()"
   ]
  },
  {
   "cell_type": "markdown",
   "id": "d39f7885",
   "metadata": {},
   "source": [
    "Here we use Adam Optimizer, which is known to speed up the training process and is a momentum based Neural Network training Optimizer."
   ]
  },
  {
   "cell_type": "code",
   "execution_count": 15,
   "id": "d9848633",
   "metadata": {},
   "outputs": [],
   "source": [
    "GAN.layers[0].compile(loss=tf.keras.losses.BinaryCrossentropy(from_logits=True), optimizer=tf.keras.optimizers.Adam(learning_rate=0.0003, beta_1=0.002), metrics=['accuracy', 'mse'])\n",
    "GAN.layers[1].compile(loss=tf.keras.losses.BinaryCrossentropy(from_logits=True), optimizer=tf.keras.optimizers.Adam(learning_rate=0.0003, beta_1=0.002), metrics=['accuracy', 'mse'])\n",
    "GAN.compile(loss=tf.keras.losses.BinaryCrossentropy(from_logits=True), optimizer=tf.keras.optimizers.Adam(learning_rate=0.0003, beta_1=0.002), metrics=['accuracy', 'mse'])"
   ]
  },
  {
   "cell_type": "markdown",
   "id": "73ba3b43",
   "metadata": {},
   "source": [
    "*generate_random_points* is a function to generate random noise values out of given range - *start* and *end*"
   ]
  },
  {
   "cell_type": "code",
   "execution_count": 16,
   "id": "0f0a1907",
   "metadata": {},
   "outputs": [],
   "source": [
    "def generate_random_points(start=-1, end=1):\n",
    "    return np.random.rand(1,2)*(end - start) + start"
   ]
  },
  {
   "cell_type": "markdown",
   "id": "438dc32e",
   "metadata": {},
   "source": [
    "Here, first we train Discriminator by Gradient Descedent and then, we train Generator by locking the Discriminator weights (setting *trainable* instance to *False*) and forcing GAN model to fool discriminator by outputting 1 by adjusting weights of only Generator!"
   ]
  },
  {
   "cell_type": "code",
   "execution_count": 17,
   "id": "a7107124",
   "metadata": {},
   "outputs": [],
   "source": [
    "def learning_step(dataset, GAN=GAN, epochs=500, batch_size=10):\n",
    "    for epoch in range(epochs):\n",
    "        for batch in range(batch_size):\n",
    "            GAN.layers[0].trainable = False\n",
    "            \n",
    "            # 0 for fake points in discriminator 1 for real dataset points!\n",
    "            GAN.layers[1].fit(generator(generate_random_points()), np.array([0]))\n",
    "            \n",
    "            print(\"batch :\" + str(batch) + \" epoch: \" + str(epoch))\n",
    "        GAN.layers[1].fit(dataset[epoch%500], np.array([1]))\n",
    "        \n",
    "        GAN.layers[1].trainable = False\n",
    "        GAN.layers[0].trainable = True\n",
    "        \n",
    "        GAN.fit(generate_random_points(), np.array([1]))\n",
    "        \n",
    "        print(\"Epoch: \" + str(epoch) + \" Completed...\")\n",
    "        \n",
    "        generated_values = []\n",
    "        for _ in range(50):\n",
    "            generated_values.append(GAN.layers[0](generate_random_points()))\n",
    "\n",
    "        generated_values = np.array(generated_values)\n",
    "\n",
    "        plt.scatter(dataset[:, 0, 0], dataset[:, 0, 1])\n",
    "        plt.scatter(generated_values[:, 0, 0], generated_values[:, 0, 1], color=['red'])\n",
    "        plt.show()\n",
    "        plt.savefig(os.path.join(\"./folder/\") + str(epoch)+ str('.png'))"
   ]
  },
  {
   "cell_type": "code",
   "execution_count": 18,
   "id": "0f936fa1",
   "metadata": {},
   "outputs": [
    {
     "data": {
      "text/plain": [
       "<tf.Tensor: shape=(1, 1), dtype=float32, numpy=array([[0.3125161]], dtype=float32)>"
      ]
     },
     "execution_count": 18,
     "metadata": {},
     "output_type": "execute_result"
    }
   ],
   "source": [
    "GAN.layers[1](np.array([X[0], Y[0]]).reshape(1,2))"
   ]
  },
  {
   "cell_type": "code",
   "execution_count": 19,
   "id": "1a9430fb",
   "metadata": {},
   "outputs": [],
   "source": [
    "dataset=[]\n",
    "for i in range(500):\n",
    "    dataset.append(np.array([X[i], Y[i]]).reshape(1,2))"
   ]
  },
  {
   "cell_type": "code",
   "execution_count": 20,
   "id": "af53dc3c",
   "metadata": {},
   "outputs": [],
   "source": [
    "dataset = np.array(dataset)"
   ]
  },
  {
   "cell_type": "code",
   "execution_count": 21,
   "id": "8d241f2f",
   "metadata": {},
   "outputs": [
    {
     "data": {
      "text/plain": [
       "(500, 1, 2)"
      ]
     },
     "execution_count": 21,
     "metadata": {},
     "output_type": "execute_result"
    }
   ],
   "source": [
    "dataset.shape"
   ]
  },
  {
   "cell_type": "code",
   "execution_count": 22,
   "id": "9e58f757",
   "metadata": {},
   "outputs": [
    {
     "data": {
      "text/plain": [
       "<matplotlib.collections.PathCollection at 0x1df999031c0>"
      ]
     },
     "execution_count": 22,
     "metadata": {},
     "output_type": "execute_result"
    },
    {
     "data": {
      "image/png": "[encoded data removed]",
      "text/plain": [
       "<Figure size 432x288 with 1 Axes>"
      ]
     },
     "metadata": {
      "needs_background": "light"
     },
     "output_type": "display_data"
    }
   ],
   "source": [
    "plt.scatter(dataset[:, 0, 0], dataset[:, 0, 1])"
   ]
  },
  {
   "cell_type": "code",
   "execution_count": 23,
   "id": "08092e6d",
   "metadata": {},
   "outputs": [
    {
     "data": {
      "text/plain": [
       "<tf.Tensor: shape=(1, 2), dtype=float32, numpy=array([[0.054892 , 0.4703758]], dtype=float32)>"
      ]
     },
     "execution_count": 23,
     "metadata": {},
     "output_type": "execute_result"
    }
   ],
   "source": [
    "GAN.layers[0](generate_random_points())"
   ]
  },
  {
   "cell_type": "markdown",
   "id": "2c6cd3e4",
   "metadata": {},
   "source": [
    "We notice a slow convergence by our Model (Generator) to the desired function, bit by bit with each epoch. \n",
    "Notice: \n",
    "\n",
    "1. Higher Momentum Rate ($\\beta_1 >>$) by our Adam optimizer causes the points to lag to either extreme left or right and freeze there. It is known as mode collapse, where the output of generator freezes to a single vector and doesn't changes much despite input. A good remedy to it is a special GAN Model - DC GAN for images. \n",
    "\n",
    "2. Low learning rate ($\\alpha << 0$) causes a certain randomness in the points which doesn't gets due to slow learning rate keeps jumping over the whole graph without converging. A effective remedy for such is to increase learning rate, but simultaneously decrease Momenum Rate."
   ]
  },
  {
   "cell_type": "code",
   "execution_count": null,
   "id": "ae9070c9",
   "metadata": {
    "scrolled": false
   },
   "outputs": [],
   "source": [
    "for i in range(1):\n",
    "    \n",
    "    #generate plots, then converge\n",
    "    \n",
    "    generated_values = []\n",
    "    for _ in range(50):\n",
    "        generated_values.append(GAN.layers[0](generate_random_points()))\n",
    "    generated_values = np.array(generated_values)\n",
    "    \n",
    "    \n",
    "    plt.scatter(dataset[:, 0, 0], dataset[:, 0, 1])\n",
    "    plt.scatter(generated_values[:, 0, 0], generated_values[:, 0, 1], color=['red'])\n",
    "    plt.show()\n",
    "    \n",
    "    \n",
    "    #Train Networks\n",
    "    \n",
    "    learning_step(dataset, epochs=5000, batch_size=5)"
   ]
  },
  {
   "cell_type": "code",
   "execution_count": 25,
   "id": "5c46911b",
   "metadata": {},
   "outputs": [
    {
     "data": {
      "text/plain": [
       "<tf.Tensor: shape=(1, 1), dtype=float32, numpy=array([[0.23445815]], dtype=float32)>"
      ]
     },
     "execution_count": 25,
     "metadata": {},
     "output_type": "execute_result"
    }
   ],
   "source": [
    "discriminator(generator(generate_random_points()))"
   ]
  },
  {
   "cell_type": "markdown",
   "id": "07e11130",
   "metadata": {},
   "source": [
    "Remarkable convergence, in just an hour of run by our 1D - GAN. For better results, usually 10 hours of training is preferred."
   ]
  },
  {
   "cell_type": "code",
   "execution_count": 31,
   "id": "fefa1fae",
   "metadata": {
    "scrolled": true
   },
   "outputs": [
    {
     "data": {
      "image/png": "[encoded data removed]",
      "text/plain": [
       "<Figure size 432x288 with 1 Axes>"
      ]
     },
     "metadata": {
      "needs_background": "light"
     },
     "output_type": "display_data"
    }
   ],
   "source": [
    "generated_values = []\n",
    "for _ in range(400):\n",
    "    generated_values.append(GAN.layers[0](generate_random_points()))\n",
    "\n",
    "generated_values = np.array(generated_values)\n",
    "plt.scatter(dataset[:, 0, 0], dataset[:, 0, 1])\n",
    "plt.scatter(generated_values[:, 0, 0], generated_values[:, 0, 1], color=['red'])\n",
    "plt.show()"
   ]
  },
  {
   "cell_type": "markdown",
   "id": "6475d3e9",
   "metadata": {},
   "source": [
    "<h1>Biblography</h1>\n",
    "\n",
    "1. I. Goodfellow, J. Pouget-Abadie, M. Mirza, B. Xu, D. Warde-Farley,\n",
    "S. Ozair, A. Courville, and Y. Bengio, “Generative adversarial nets,”\n",
    "in Advances in Neural Information Processing Systems, 2014, pp.\n",
    "2672–2680.\n",
    "\n",
    "2. A. Radford, L. Metz, and S. Chintala, “Unsupervised representation learning with deep convolutional generative adversarial\n",
    "networks,” in Proceedings of the 5th International Conference on\n",
    "Learning Representations (ICLR) - workshop track, 2016.\n",
    "\n",
    "3. Y. LeCun, Y. Bengio, and G. Hinton, “Deep learning,” Nature, vol.\n",
    "521, no. 7553, pp. 436–444, 2015.\n",
    "\n",
    "4. I. J. Goodfellow, “On distinguishability criteria for estimating generative models,” International Conference on Learning Representations - workshop track, 2015\n",
    "\n",
    "5. I. Goodfellow, “Nips 2016 tutorial: Generative adversarial\n",
    "networks,” 2016, presented at the Neural Information Processing\n",
    "Systems Conference. [Online]. Available: https://arxiv.org/abs/1701.00160\n",
    "\n",
    "6. J. D. Lee, M. Simchowitz, M. I. Jordan, and B. Recht, “Gradient\n",
    "descent only converges to minimizers,” in Conference on Learning\n",
    "Theory, 2016, pp. 1246–1257\n",
    "\n",
    "7. Thanh-Tung, Hoang, and Truyen Tran. \"Catastrophic forgetting and mode collapse in gans.\" 2020 international joint conference on neural networks (ijcnn). IEEE, 2020.\n",
    "\n",
    "8. Kushwaha, Vandana, and G. C. Nandi. \"Study of prevention of mode collapse in generative adversarial network (GAN).\" 2020 IEEE 4th Conference on Information & Communication Technology (CICT). IEEE, 2020.\n"
   ]
  }
 ],
 "metadata": {
  "kernelspec": {
   "display_name": "Python 3 (ipykernel)",
   "language": "python",
   "name": "python3"
  },
  "language_info": {
   "codemirror_mode": {
    "name": "ipython",
    "version": 3
   },
   "file_extension": ".py",
   "mimetype": "text/x-python",
   "name": "python",
   "nbconvert_exporter": "python",
   "pygments_lexer": "ipython3",
   "version": "3.9.5"
  }
 },
 "nbformat": 4,
 "nbformat_minor": 5
}
